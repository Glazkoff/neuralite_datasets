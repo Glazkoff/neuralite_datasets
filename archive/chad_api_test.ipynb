{
 "cells": [
  {
   "cell_type": "code",
   "execution_count": 10,
   "metadata": {},
   "outputs": [
    {
     "name": "stdout",
     "output_type": "stream",
     "text": [
      "Ответ от бота: [{\"turn id\": 1, \"user utterance\": \"Я не могу поверить в стоимость квартир в Нью-Йорке.\", \"system response\": \"О, вы не знали, что квартиры здесь считаются ценными, даже если они маленькие и тесные?\", \"dialog history\": \"\", \"original user side information\": \"{\"speaker\": \"Person1\"}\", \"original system side information\": \"{\"speaker\": \"Person2\"}\"}, {\"turn id\": 2, \"user utterance\": \"Конечно, я слышал об этом, но теперь я знаю, как дорого арендовать место здесь.\", \"system response\": \"Мне не важно платить высокую аренду, чтобы жить в Нью-Йорке.\", \"dialog history\": \"<USER> Я не могу поверить в стоимость квартир в Нью-Йорке. <SYSTEM> О, вы не знали, что квартиры здесь считаются ценными, даже если они маленькие и тесные?\", \"original user side information\": \"{\"speaker\": \"Person1\"}\", \"original system side information\": \"{\"speaker\": \"Person2\"}\"}, {\"turn id\": 3, \"user utterance\": \"Почему? Вы платите так много за такое крохотное место для жизни.\", \"system response\": \"Да, но и что! Я горжусь жить в самом захватывающем городе мира. И здесь зарплаты самые высокие в стране.\", \"dialog history\": \"<USER> Я не могу поверить в стоимость квартир в Нью-Йорке. <SYSTEM> О, вы не знали, что квартиры здесь считаются ценными, даже если они маленькие и тесные? <USER> Конечно, я слышал об этом, но теперь я знаю, как дорого арендовать место здесь. <SYSTEM> Мне не важно платить высокую аренду, чтобы жить в Нью-Йорке.\", \"original user side information\": \"{\"speaker\": \"Person1\"}\", \"original system side information\": \"{\"speaker\": \"Person2\"}\"}]\n",
      "Потрачено слов: 553\n",
      "{'is_success': True,\n",
      " 'response': '[{\"turn id\": 1, \"user utterance\": \"Я не могу поверить в '\n",
      "             'стоимость квартир в Нью-Йорке.\", \"system response\": \"О, вы не '\n",
      "             'знали, что квартиры здесь считаются ценными, даже если они '\n",
      "             'маленькие и тесные?\", \"dialog history\": \"\", \"original user side '\n",
      "             'information\": \"{\"speaker\": \"Person1\"}\", \"original system side '\n",
      "             'information\": \"{\"speaker\": \"Person2\"}\"}, {\"turn id\": 2, \"user '\n",
      "             'utterance\": \"Конечно, я слышал об этом, но теперь я знаю, как '\n",
      "             'дорого арендовать место здесь.\", \"system response\": \"Мне не '\n",
      "             'важно платить высокую аренду, чтобы жить в Нью-Йорке.\", \"dialog '\n",
      "             'history\": \"<USER> Я не могу поверить в стоимость квартир в '\n",
      "             'Нью-Йорке. <SYSTEM> О, вы не знали, что квартиры здесь считаются '\n",
      "             'ценными, даже если они маленькие и тесные?\", \"original user side '\n",
      "             'information\": \"{\"speaker\": \"Person1\"}\", \"original system side '\n",
      "             'information\": \"{\"speaker\": \"Person2\"}\"}, {\"turn id\": 3, \"user '\n",
      "             'utterance\": \"Почему? Вы платите так много за такое крохотное '\n",
      "             'место для жизни.\", \"system response\": \"Да, но и что! Я горжусь '\n",
      "             'жить в самом захватывающем городе мира. И здесь зарплаты самые '\n",
      "             'высокие в стране.\", \"dialog history\": \"<USER> Я не могу поверить '\n",
      "             'в стоимость квартир в Нью-Йорке. <SYSTEM> О, вы не знали, что '\n",
      "             'квартиры здесь считаются ценными, даже если они маленькие и '\n",
      "             'тесные? <USER> Конечно, я слышал об этом, но теперь я знаю, как '\n",
      "             'дорого арендовать место здесь. <SYSTEM> Мне не важно платить '\n",
      "             'высокую аренду, чтобы жить в Нью-Йорке.\", \"original user side '\n",
      "             'information\": \"{\"speaker\": \"Person1\"}\", \"original system side '\n",
      "             'information\": \"{\"speaker\": \"Person2\"}\"}]',\n",
      " 'used_tokens_count': 0,\n",
      " 'used_words_count': 553}\n"
     ]
    }
   ],
   "source": [
    "import requests\n",
    "import os\n",
    "from ..scripts.prompts import TRANSLATE_JSON \n",
    "from dotenv import load_dotenv\n",
    "from pprint import pprint\n",
    "\n",
    "load_dotenv(\"../scripts/.env\")\n",
    "\n",
    "# Ключ из личного кабинета, подставьте свой\n",
    "CHAD_API_KEY = os.getenv(\"CHAD_API_KEY\")\n",
    "\n",
    "# Формируем запрос\n",
    "request_json = {\n",
    "    \"message\": TRANSLATE_JSON.format(\"\"\"[{\"turn id\": 1, \"user utterance\": \"I can't believe the cost of apartments in New York City.\", \"system response\": \"Oh, you didn't know that apartments here are considered valuable, even if they are small and crowded?\", \"dialog history\": \"\", \"original user side information\": \"{\\\"speaker\\\": \\\"Person1\\\"}\", \"original system side information\": \"{\\\"speaker\\\": \\\"Person2\\\"}\"}, {\"turn id\": 2, \"user utterance\": \"Of course I had heard about that, but now I know how expensive it is to rent a place here.\", \"system response\": \"I don't mind paying high rent to live in New York.\", \"dialog history\": \"<USER> I can't believe the cost of apartments in New York City. <SYSTEM> Oh, you didn't know that apartments here are considered valuable, even if they are small and crowded?\", \"original user side information\": \"{\\\"speaker\\\": \\\"Person1\\\"}\", \"original system side information\": \"{\\\"speaker\\\": \\\"Person2\\\"}\"}, {\"turn id\": 3, \"user utterance\": \"Why? You pay so much for such a tiny space to live.\", \"system response\": \"Yeah, but so what! I'm proud to live in the world's most exciting city. And, the salaries here are the highest in the nation, too.\", \"dialog history\": \"<USER> I can't believe the cost of apartments in New York City. <SYSTEM> Oh, you didn't know that apartments here are considered valuable, even if they are small and crowded? <USER> Of course I had heard about that, but now I know how expensive it is to rent a place here. <SYSTEM> I don't mind paying high rent to live in New York.\", \"original user side information\": \"{\\\"speaker\\\": \\\"Person1\\\"}\", \"original system side information\": \"{\\\"speaker\\\": \\\"Person2\\\"}\"}]\"\"\"),\n",
    "    \"api_key\": CHAD_API_KEY,\n",
    "}\n",
    "\n",
    "# Отправляем запрос и дожидаемся ответа\n",
    "response = requests.post(url='https://ask.chadgpt.ru/api/public/gpt-3.5',\n",
    "                         json=request_json)\n",
    "\n",
    "# Проверяем, отправился ли запрос\n",
    "if response.status_code != 200:\n",
    "    print(f'Ошибка! Код http-ответа: {response.status_code}')\n",
    "else:\n",
    "    # Получаем текст ответа и преобразовываем в dict\n",
    "    resp_json = response.json()\n",
    "\n",
    "    # Если успешен ответ, то выводим\n",
    "    if resp_json['is_success']:\n",
    "        resp_msg = resp_json['response']\n",
    "        used_words = resp_json['used_words_count']\n",
    "        print(f'Ответ от бота: {resp_msg}\\nПотрачено слов: {used_words}')\n",
    "        pprint(resp_json)\n",
    "    else:\n",
    "        error = resp_json['error_message']\n",
    "        print(f'Ошибка: {error}')"
   ]
  }
 ],
 "metadata": {
  "kernelspec": {
   "display_name": "Python 3",
   "language": "python",
   "name": "python3"
  },
  "language_info": {
   "codemirror_mode": {
    "name": "ipython",
    "version": 3
   },
   "file_extension": ".py",
   "mimetype": "text/x-python",
   "name": "python",
   "nbconvert_exporter": "python",
   "pygments_lexer": "ipython3",
   "version": "3.11.4"
  },
  "orig_nbformat": 4
 },
 "nbformat": 4,
 "nbformat_minor": 2
}
